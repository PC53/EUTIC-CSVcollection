{
 "cells": [
  {
   "cell_type": "code",
   "execution_count": 9,
   "id": "50987978",
   "metadata": {},
   "outputs": [],
   "source": [
    "import sqlite3\n",
    "import requests\n",
    "import csv\n",
    "import pandas as pd"
   ]
  },
  {
   "cell_type": "code",
   "execution_count": 10,
   "id": "b8591f7d",
   "metadata": {},
   "outputs": [],
   "source": [
    "SCREENER = {\n",
    "    \"america\": \"United States\", \n",
    "    \"forex\": \"Forex\", \n",
    "    # \"crypto\": \"Cryptocurrency\", \n",
    "    \"indonesia\": \"Indonesia\", \n",
    "    \"india\" : \"India\", \n",
    "    \"cfd\": \"CFD\", \n",
    "    \"uk\": \"United Kingdom\", \n",
    "    \"brazil\": \"Brazil\", \n",
    "    \"vietnam\": \"Vietnam\", \n",
    "    \"rsa\": \"South Africa\", \n",
    "    \"ksa\": \"Saudi Arabia\",\n",
    "    \"australia\": \"Australia\", \n",
    "    \"russia\": \"Russia\", \n",
    "    \"thailand\": \"Thailand\", \n",
    "    \"philippines\": \"Philippines\", \n",
    "    \"taiwan\": \"Taiwan\", \n",
    "    \"sweden\": \"Sweden\", \n",
    "    \"france\": \"France\", \n",
    "    \"turkey\": \"Turkey\", \n",
    "    \"euronext\": \"Euronext\", \n",
    "    \"germany\": \"Germany\", \n",
    "    \"spain\": \"Spain\", \n",
    "    \"hongkong\": \"Hong Kong\", \n",
    "    \"korea\": \"South Korea\",\n",
    "}\n"
   ]
  },
  {
   "cell_type": "code",
   "execution_count": 13,
   "id": "0fda49ed",
   "metadata": {},
   "outputs": [],
   "source": [
    "# Crete db if it doesn't exist\n",
    "with sqlite3.connect('tradingview.db') as con:\n",
    "    db = con.cursor()\n",
    "    db.execute(\n",
    "        \"CREATE TABLE IF NOT EXISTS tv (screener TEXT, exchange TEXT, symbol TEXT, desc TEXT)\")\n",
    "    con.commit()\n",
    "\n",
    "# Delete all rows\n",
    "with sqlite3.connect('tradingview.db') as con:\n",
    "    db = con.cursor()\n",
    "    db.execute(\"DELETE FROM tv\")\n",
    "    con.commit()"
   ]
  },
  {
   "cell_type": "code",
   "execution_count": 19,
   "id": "529cebac",
   "metadata": {},
   "outputs": [
    {
     "name": "stdout",
     "output_type": "stream",
     "text": [
      "Loading screener: america\n",
      "Loading screener: forex\n",
      "Loading screener: indonesia\n",
      "Loading screener: india\n",
      "Loading screener: cfd\n",
      "Loading screener: uk\n",
      "Loading screener: brazil\n",
      "Loading screener: vietnam\n",
      "Loading screener: rsa\n",
      "Loading screener: ksa\n",
      "Loading screener: australia\n",
      "Loading screener: russia\n",
      "Loading screener: thailand\n",
      "Loading screener: philippines\n",
      "Loading screener: taiwan\n",
      "Loading screener: sweden\n",
      "Loading screener: france\n",
      "Loading screener: turkey\n",
      "Loading screener: euronext\n",
      "Loading screener: germany\n",
      "Loading screener: spain\n",
      "Loading screener: hongkong\n",
      "Loading screener: korea\n",
      "Loading screener: america\n",
      "Loading screener: forex\n",
      "Loading screener: indonesia\n",
      "Loading screener: india\n",
      "Loading screener: cfd\n",
      "Loading screener: uk\n",
      "Loading screener: brazil\n",
      "Loading screener: vietnam\n",
      "Loading screener: rsa\n",
      "Loading screener: ksa\n",
      "Loading screener: australia\n",
      "Loading screener: russia\n",
      "Loading screener: thailand\n",
      "Loading screener: philippines\n",
      "Loading screener: taiwan\n",
      "Loading screener: sweden\n",
      "Loading screener: france\n",
      "Loading screener: turkey\n",
      "Loading screener: euronext\n",
      "Loading screener: germany\n",
      "Loading screener: spain\n",
      "Loading screener: hongkong\n",
      "Loading screener: korea\n"
     ]
    }
   ],
   "source": [
    "data = []\n",
    "\n",
    "for types in [\"\", \"\\\"futures\\\"\"]:\n",
    "    for x, _ in SCREENER.items():\n",
    "        print(f\"Loading screener: {x}\")\n",
    "        r = requests.post(f\"https://scanner.tradingview.com/{x}/scan\",\n",
    "                          data=f'{{\"symbols\":{{\"tickers\":[],\"query\":{{\"types\":[{types}]}}}},\"columns\":[\"description\"]}}')\n",
    "        for res in r.json()[\"data\"]:\n",
    "            exchange, symbol = res[\"s\"].split(\":\")\n",
    "            desc = res[\"d\"][0]\n",
    "            # data.append({'screener':x,'exchange': exchange, 'symbol':symbol,'desc' : desc})\n",
    "            data.append((x,exchange,symbol,desc))\n",
    "            \n",
    "        # print(data)\n",
    "        # break\n",
    "        # Use bulk operation for faster insert\n",
    "        with sqlite3.connect('tradingview.db') as con:\n",
    "            con.executemany(\n",
    "                \"INSERT INTO tv VALUES (?, ?, ?, ?)\",\n",
    "                data\n",
    "            )\n",
    "            con.commit()\n",
    "        "
   ]
  },
  {
   "cell_type": "code",
   "execution_count": null,
   "id": "68cdea6e",
   "metadata": {},
   "outputs": [],
   "source": []
  },
  {
   "cell_type": "code",
   "execution_count": null,
   "id": "5151f38d",
   "metadata": {},
   "outputs": [],
   "source": [
    "# writing to csv\n",
    "\n",
    "df = pd.DataFrame(data)\n",
    "df.to_csv('Tickers.csv')"
   ]
  },
  {
   "cell_type": "code",
   "execution_count": null,
   "id": "e1ea3539",
   "metadata": {},
   "outputs": [],
   "source": []
  }
 ],
 "metadata": {
  "kernelspec": {
   "display_name": "newsPredictorEnv",
   "language": "python",
   "name": "newspredictorenv"
  },
  "language_info": {
   "codemirror_mode": {
    "name": "ipython",
    "version": 3
   },
   "file_extension": ".py",
   "mimetype": "text/x-python",
   "name": "python",
   "nbconvert_exporter": "python",
   "pygments_lexer": "ipython3",
   "version": "3.9.5"
  },
  "vscode": {
   "interpreter": {
    "hash": "90110dee13b7165a3ba94ccfe05d99dc296f1c35d1ae63f925fe3f4ad6d32024"
   }
  }
 },
 "nbformat": 4,
 "nbformat_minor": 5
}
